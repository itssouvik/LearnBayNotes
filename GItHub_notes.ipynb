{
 "cells": [
  {
   "cell_type": "markdown",
   "id": "873b5f98",
   "metadata": {},
   "source": [
    " # Use Git bash terminal"
   ]
  },
  {
   "cell_type": "markdown",
   "id": "9d08154b",
   "metadata": {},
   "source": [
    "git config --global user.name 'itssouvik'\n",
    "git config --global user.email 'souvik.sarkar@gmail.com'\n",
    "git config --global --list\n",
    "\n",
    "Below command makes it code compatible to windows or mac:\n",
    "git config --global core.autocrlf true ## WIndows\n",
    "git config --global core.autocrlf inpur ## Mac\n",
    "\n",
    "pwd ## present working directory\n",
    "ls ## list\n",
    "cd Desktop/ ## changes dirrctory to desktop\n",
    "Note - To do cd, it should be in your ls\n",
    "mkdir data_science ## creates a folder\n",
    "\n",
    "git clone https://.... ## copy the code path from git hub\n",
    "\n",
    "vim f1.py ## Creates f1.py file in the directory if not present else opens the file if already present\n",
    "then press i if INSERT mode is not seen at bottom left\n",
    "then writs some code\n",
    "then press ESC :wq ## Escape will come of the insert mode and :wq will save the file and exit\n",
    "then cat f1.py ## it will sohw the content of f1.py\n",
    "ls -al ## gives the user permissions for each file in the directory including the hidden files\n",
    "# NOTE: if .git file is there, means the direrctory is a git repository and only thrn you will be able to push it to github. This is called as Staging Area.\n",
    "press git status ## tell you which branch and the branch path eg. origin/main\n",
    "# .git status is like a ledger. It tells you who, when, what was commited etc\n",
    "type git init # this will intialize your git # if .git is not coming, type git init - then you should see the .git file (ofcourse hidden) - basically means you made it a git repository\n",
    "type git add . ## . means whole directory - means git will be added to the staging area - this is used to add from local to staging area\n",
    "OR\n",
    "type git add fl.py - this will only initialize f1.py\n",
    "OR\n",
    "type git add 'f1.py' 'f2.py' ## this will initiliaze f1.py and f2.py\n",
    "OR\n",
    "type git add *.py ## this will initiaze all files with .py extensions\n",
    "OR\n",
    "type git add *.txt ## this will initiaze all files with .txt extensions\n",
    "\n",
    "if you get the following message, do the below : warning: in the working copy of 'f1.py', LF will be replaced by CRLF the next time Git touches it\n",
    "type git status ## gives the branch and commit status\n",
    "then again type git config --global core.autocrlf true ## \n",
    "\n",
    "vim f1.py\n",
    "....\n",
    "git log ## \n",
    "git commit -m \"FIrst commit\" ## \n",
    "git status\n",
    "git log ## contains your commit ID also\n",
    "git push -f origin master ## \n",
    "git remote -v ## shows the path of git repo both from fetch and push perspectives ## remote means github\n",
    "git push --set-upstream 'paste the path' master\n",
    "OR\n",
    "git branch -m main ## changes the github branch from master to main as per the new Git repo.\n",
    "git status\n",
    "\n",
    "\n",
    "\n",
    "\n",
    "\n",
    "\n",
    "\n",
    "\n",
    "\n",
    "\n",
    "\n",
    "\n"
   ]
  },
  {
   "cell_type": "markdown",
   "id": "14710e19",
   "metadata": {},
   "source": [
    "# Binary vs Octal vs Hexadecimal"
   ]
  },
  {
   "cell_type": "code",
   "execution_count": 2,
   "id": "6b12f9c3",
   "metadata": {},
   "outputs": [
    {
     "name": "stdout",
     "output_type": "stream",
     "text": [
      "341\n"
     ]
    }
   ],
   "source": [
    "x = 0B0101010101\n",
    "print(x)"
   ]
  },
  {
   "cell_type": "code",
   "execution_count": 3,
   "id": "054af035",
   "metadata": {},
   "outputs": [
    {
     "name": "stdout",
     "output_type": "stream",
     "text": [
      "True\n",
      "False\n"
     ]
    }
   ],
   "source": [
    "# binary literal -- anything with true or false (still confused ??)\n",
    "x = True\n",
    "y = False\n",
    "print (x)\n",
    "print (y)\n"
   ]
  },
  {
   "cell_type": "markdown",
   "id": "ecc1c497",
   "metadata": {},
   "source": [
    "# Jupyter Shotcuts\n",
    "Once blue..\n",
    "    C - copy\n",
    "    V- paste\n",
    "    dd- delete\n",
    "    X - cut\n",
    "    M- changes to markdown\n",
    "    shift enter - to run\n",
    "    A- to add cell above\n",
    "    B- to add cell below\n",
    "    "
   ]
  },
  {
   "cell_type": "code",
   "execution_count": null,
   "id": "05ebe6f4",
   "metadata": {},
   "outputs": [],
   "source": [
    "# ASCII table & Unicode table\n"
   ]
  },
  {
   "cell_type": "code",
   "execution_count": 5,
   "id": "a716731f",
   "metadata": {},
   "outputs": [
    {
     "name": "stdout",
     "output_type": "stream",
     "text": [
      "['ArithmeticError', 'AssertionError', 'AttributeError', 'BaseException', 'BlockingIOError', 'BrokenPipeError', 'BufferError', 'BytesWarning', 'ChildProcessError', 'ConnectionAbortedError', 'ConnectionError', 'ConnectionRefusedError', 'ConnectionResetError', 'DeprecationWarning', 'EOFError', 'Ellipsis', 'EncodingWarning', 'EnvironmentError', 'Exception', 'False', 'FileExistsError', 'FileNotFoundError', 'FloatingPointError', 'FutureWarning', 'GeneratorExit', 'IOError', 'ImportError', 'ImportWarning', 'IndentationError', 'IndexError', 'InterruptedError', 'IsADirectoryError', 'KeyError', 'KeyboardInterrupt', 'LookupError', 'MemoryError', 'ModuleNotFoundError', 'NameError', 'None', 'NotADirectoryError', 'NotImplemented', 'NotImplementedError', 'OSError', 'OverflowError', 'PendingDeprecationWarning', 'PermissionError', 'ProcessLookupError', 'RecursionError', 'ReferenceError', 'ResourceWarning', 'RuntimeError', 'RuntimeWarning', 'StopAsyncIteration', 'StopIteration', 'SyntaxError', 'SyntaxWarning', 'SystemError', 'SystemExit', 'TabError', 'TimeoutError', 'True', 'TypeError', 'UnboundLocalError', 'UnicodeDecodeError', 'UnicodeEncodeError', 'UnicodeError', 'UnicodeTranslateError', 'UnicodeWarning', 'UserWarning', 'ValueError', 'Warning', 'WindowsError', 'ZeroDivisionError', '__IPYTHON__', '__build_class__', '__debug__', '__doc__', '__import__', '__loader__', '__name__', '__package__', '__spec__', 'abs', 'aiter', 'all', 'anext', 'any', 'ascii', 'bin', 'bool', 'breakpoint', 'bytearray', 'bytes', 'callable', 'chr', 'classmethod', 'compile', 'complex', 'copyright', 'credits', 'delattr', 'dict', 'dir', 'display', 'divmod', 'enumerate', 'eval', 'exec', 'execfile', 'filter', 'float', 'format', 'frozenset', 'get_ipython', 'getattr', 'globals', 'hasattr', 'hash', 'help', 'hex', 'id', 'input', 'int', 'isinstance', 'issubclass', 'iter', 'len', 'license', 'list', 'locals', 'map', 'max', 'memoryview', 'min', 'next', 'object', 'oct', 'open', 'ord', 'pow', 'print', 'property', 'range', 'repr', 'reversed', 'round', 'runfile', 'set', 'setattr', 'slice', 'sorted', 'staticmethod', 'str', 'sum', 'super', 'tuple', 'type', 'vars', 'zip']\n"
     ]
    }
   ],
   "source": [
    "print(dir(__builtins__))"
   ]
  },
  {
   "cell_type": "code",
   "execution_count": null,
   "id": "3780ca22",
   "metadata": {},
   "outputs": [],
   "source": []
  },
  {
   "cell_type": "code",
   "execution_count": null,
   "id": "a68c83ee",
   "metadata": {},
   "outputs": [],
   "source": []
  },
  {
   "cell_type": "code",
   "execution_count": null,
   "id": "fc5ef065",
   "metadata": {},
   "outputs": [],
   "source": []
  },
  {
   "cell_type": "code",
   "execution_count": null,
   "id": "8cf4a925",
   "metadata": {},
   "outputs": [],
   "source": []
  },
  {
   "cell_type": "code",
   "execution_count": null,
   "id": "291ea2ad",
   "metadata": {},
   "outputs": [],
   "source": []
  },
  {
   "cell_type": "code",
   "execution_count": null,
   "id": "ef509f42",
   "metadata": {},
   "outputs": [],
   "source": []
  }
 ],
 "metadata": {
  "kernelspec": {
   "display_name": "Python 3 (ipykernel)",
   "language": "python",
   "name": "python3"
  },
  "language_info": {
   "codemirror_mode": {
    "name": "ipython",
    "version": 3
   },
   "file_extension": ".py",
   "mimetype": "text/x-python",
   "name": "python",
   "nbconvert_exporter": "python",
   "pygments_lexer": "ipython3",
   "version": "3.10.9"
  }
 },
 "nbformat": 4,
 "nbformat_minor": 5
}
